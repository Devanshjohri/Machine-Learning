{
 "cells": [
  {
   "cell_type": "code",
   "execution_count": 1,
   "id": "63729575-65c5-4920-8900-c55eb17bd0f2",
   "metadata": {},
   "outputs": [],
   "source": [
    "import numpy as np\n",
    "import matplotlib.pyplot as plt"
   ]
  },
  {
   "cell_type": "code",
   "execution_count": 3,
   "id": "9a82911b-961b-4a9a-91e9-640f2a1b0afd",
   "metadata": {},
   "outputs": [],
   "source": [
    "%matplotlib inline\n",
    "def gradient_descent(x,y):\n",
    "    m=b=0\n",
    "    rate=0.01\n",
    "    n=len(x)\n",
    "    plt.scatter(x,y,color='red',marker='+')\n",
    "    plt.show()\n",
    "    for i in range(1000):\n",
    "        y_predicted = m*x+b\n",
    "        cost = (1/n) * sum([val**2 for val in (y-y_predicted)])\n",
    "        plt.plot(x,y_predicted,color='blue')\n",
    "        md=-(2/n)*sum(x*(y-y_predicted))\n",
    "        yd=-(2/n)*sum(y-y_predicted)\n",
    "        m=m-rate*md\n",
    "        b=b-rate*yd\n",
    "        #print (\"m {}, b {}, cost {} iteration {}\".format(m,b,cost, i))\n",
    "    "
   ]
  },
  {
   "cell_type": "code",
   "execution_count": 5,
   "id": "3fb34c44-549d-47a2-a968-d239875d5c87",
   "metadata": {},
   "outputs": [],
   "source": [
    "x=np.array([1,2,3,4,5])\n",
    "y=np.array([5,7,9,11,13])"
   ]
  },
  {
   "cell_type": "code",
   "execution_count": 7,
   "id": "3bfd7716-33b2-44d0-a41b-29db1f507515",
   "metadata": {},
   "outputs": [
    {
     "data": {
      "image/png": "[encoded data removed]",
      "text/plain": [
       "<Figure size 640x480 with 1 Axes>"
      ]
     },
     "metadata": {},
     "output_type": "display_data"
    }
   ],
   "source": [
    "gradient_descent(x,y)"
   ]
  },
  {
   "cell_type": "code",
   "execution_count": null,
   "id": "c7b395ac-8492-4aad-8a71-89fa449f94c1",
   "metadata": {},
   "outputs": [],
   "source": []
  }
 ],
 "metadata": {
  "kernelspec": {
   "display_name": "Python [conda env:base] *",
   "language": "python",
   "name": "conda-base-py"
  },
  "language_info": {
   "codemirror_mode": {
    "name": "ipython",
    "version": 3
   },
   "file_extension": ".py",
   "mimetype": "text/x-python",
   "name": "python",
   "nbconvert_exporter": "python",
   "pygments_lexer": "ipython3",
   "version": "3.12.7"
  }
 },
 "nbformat": 4,
 "nbformat_minor": 5
}
